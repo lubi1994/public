{
 "cells": [
  {
   "cell_type": "code",
   "execution_count": 1,
   "id": "1a410261",
   "metadata": {},
   "outputs": [],
   "source": [
    "import pandas as pd\n",
    "import numpy as np"
   ]
  },
  {
   "cell_type": "code",
   "execution_count": 2,
   "id": "b552d689",
   "metadata": {},
   "outputs": [],
   "source": [
    "import seaborn as sns\n",
    "import matplotlib.pyplot as plt"
   ]
  },
  {
   "cell_type": "code",
   "execution_count": 3,
   "id": "7d5d3143",
   "metadata": {},
   "outputs": [],
   "source": [
    "from sklearn.model_selection import train_test_split\n"
   ]
  },
  {
   "cell_type": "code",
   "execution_count": 4,
   "id": "52492266",
   "metadata": {},
   "outputs": [],
   "source": [
    "from sklearn.linear_model import LinearRegression\n",
    "from sklearn.linear_model import Lasso\n",
    "from sklearn.metrics import r2_score, mean_squared_error"
   ]
  },
  {
   "cell_type": "code",
   "execution_count": 5,
   "id": "e1f09c9b",
   "metadata": {},
   "outputs": [],
   "source": [
    "# DATA COLLECTION\n",
    "\n",
    "data=pd.read_excel(r'C:\\Users\\adeeb\\Downloads\\car_age_price_c.xlsx')\n",
    "cars = pd.DataFrame(data)"
   ]
  },
  {
   "cell_type": "code",
   "execution_count": 6,
   "id": "9ae2a58b",
   "metadata": {},
   "outputs": [
    {
     "data": {
      "text/plain": [
       "(112, 2)"
      ]
     },
     "execution_count": 6,
     "metadata": {},
     "output_type": "execute_result"
    }
   ],
   "source": [
    "\n",
    "#GETTING SOME INFORMATION ABOUT DATA\n",
    "\n",
    "cars.shape"
   ]
  },
  {
   "cell_type": "code",
   "execution_count": 7,
   "id": "1dde6b9a",
   "metadata": {},
   "outputs": [
    {
     "data": {
      "text/plain": [
       "Index(['Year', 'Price'], dtype='object')"
      ]
     },
     "execution_count": 7,
     "metadata": {},
     "output_type": "execute_result"
    }
   ],
   "source": [
    "cars.columns"
   ]
  },
  {
   "cell_type": "code",
   "execution_count": 8,
   "id": "8d133798",
   "metadata": {},
   "outputs": [
    {
     "data": {
      "text/plain": [
       "Year     0\n",
       "Price    0\n",
       "dtype: int64"
      ]
     },
     "execution_count": 8,
     "metadata": {},
     "output_type": "execute_result"
    }
   ],
   "source": [
    "cars.isna().sum()"
   ]
  },
  {
   "cell_type": "code",
   "execution_count": 9,
   "id": "7faa6791",
   "metadata": {},
   "outputs": [
    {
     "data": {
      "text/html": [
       "<div>\n",
       "<style scoped>\n",
       "    .dataframe tbody tr th:only-of-type {\n",
       "        vertical-align: middle;\n",
       "    }\n",
       "\n",
       "    .dataframe tbody tr th {\n",
       "        vertical-align: top;\n",
       "    }\n",
       "\n",
       "    .dataframe thead th {\n",
       "        text-align: right;\n",
       "    }\n",
       "</style>\n",
       "<table border=\"1\" class=\"dataframe\">\n",
       "  <thead>\n",
       "    <tr style=\"text-align: right;\">\n",
       "      <th></th>\n",
       "      <th>Year</th>\n",
       "      <th>Price</th>\n",
       "    </tr>\n",
       "  </thead>\n",
       "  <tbody>\n",
       "    <tr>\n",
       "      <th>0</th>\n",
       "      <td>2018.0</td>\n",
       "      <td>465000.0</td>\n",
       "    </tr>\n",
       "    <tr>\n",
       "      <th>1</th>\n",
       "      <td>2019.0</td>\n",
       "      <td>755000.0</td>\n",
       "    </tr>\n",
       "    <tr>\n",
       "      <th>2</th>\n",
       "      <td>2019.0</td>\n",
       "      <td>700000.0</td>\n",
       "    </tr>\n",
       "    <tr>\n",
       "      <th>3</th>\n",
       "      <td>2018.0</td>\n",
       "      <td>465000.0</td>\n",
       "    </tr>\n",
       "    <tr>\n",
       "      <th>4</th>\n",
       "      <td>2018.0</td>\n",
       "      <td>465000.0</td>\n",
       "    </tr>\n",
       "  </tbody>\n",
       "</table>\n",
       "</div>"
      ],
      "text/plain": [
       "     Year     Price\n",
       "0  2018.0  465000.0\n",
       "1  2019.0  755000.0\n",
       "2  2019.0  700000.0\n",
       "3  2018.0  465000.0\n",
       "4  2018.0  465000.0"
      ]
     },
     "execution_count": 9,
     "metadata": {},
     "output_type": "execute_result"
    }
   ],
   "source": [
    "cars.head()"
   ]
  },
  {
   "cell_type": "code",
   "execution_count": 10,
   "id": "57d134fa",
   "metadata": {},
   "outputs": [],
   "source": [
    "#CHECKING LINEARITY"
   ]
  },
  {
   "cell_type": "code",
   "execution_count": 11,
   "id": "6be5f185",
   "metadata": {},
   "outputs": [
    {
     "data": {
      "image/png": "[encoded data removed]",
      "text/plain": [
       "<Figure size 432x288 with 1 Axes>"
      ]
     },
     "metadata": {
      "needs_background": "light"
     },
     "output_type": "display_data"
    }
   ],
   "source": [
    "sns.regplot(x = \"Year\", y = \"Price\", data = data)\n",
    "plt.title(\"Year vs Prices\")\n",
    "plt.show()"
   ]
  },
  {
   "cell_type": "code",
   "execution_count": 12,
   "id": "24c8d65c",
   "metadata": {},
   "outputs": [],
   "source": [
    "# Year and price are linearly correlated. To be related in such a manner that -\n",
    "#  _their values form a straight line when plotted on a graph"
   ]
  },
  {
   "cell_type": "code",
   "execution_count": 13,
   "id": "fab870c4",
   "metadata": {},
   "outputs": [],
   "source": [
    "cor = cars.corr()"
   ]
  },
  {
   "cell_type": "code",
   "execution_count": 14,
   "id": "a8d46903",
   "metadata": {},
   "outputs": [
    {
     "data": {
      "text/html": [
       "<div>\n",
       "<style scoped>\n",
       "    .dataframe tbody tr th:only-of-type {\n",
       "        vertical-align: middle;\n",
       "    }\n",
       "\n",
       "    .dataframe tbody tr th {\n",
       "        vertical-align: top;\n",
       "    }\n",
       "\n",
       "    .dataframe thead th {\n",
       "        text-align: right;\n",
       "    }\n",
       "</style>\n",
       "<table border=\"1\" class=\"dataframe\">\n",
       "  <thead>\n",
       "    <tr style=\"text-align: right;\">\n",
       "      <th></th>\n",
       "      <th>Year</th>\n",
       "      <th>Price</th>\n",
       "    </tr>\n",
       "  </thead>\n",
       "  <tbody>\n",
       "    <tr>\n",
       "      <th>Year</th>\n",
       "      <td>1.000000</td>\n",
       "      <td>0.776302</td>\n",
       "    </tr>\n",
       "    <tr>\n",
       "      <th>Price</th>\n",
       "      <td>0.776302</td>\n",
       "      <td>1.000000</td>\n",
       "    </tr>\n",
       "  </tbody>\n",
       "</table>\n",
       "</div>"
      ],
      "text/plain": [
       "           Year     Price\n",
       "Year   1.000000  0.776302\n",
       "Price  0.776302  1.000000"
      ]
     },
     "execution_count": 14,
     "metadata": {},
     "output_type": "execute_result"
    }
   ],
   "source": [
    "cor"
   ]
  },
  {
   "cell_type": "code",
   "execution_count": 15,
   "id": "e28e4fd2",
   "metadata": {},
   "outputs": [],
   "source": [
    "# SPLITING DATA INTO TRAINING DATA AND TEST DATA"
   ]
  },
  {
   "cell_type": "code",
   "execution_count": 16,
   "id": "71358340",
   "metadata": {},
   "outputs": [],
   "source": [
    "X= cars.drop(['Price'],axis=1)\n",
    "y= cars['Price']\n"
   ]
  },
  {
   "cell_type": "code",
   "execution_count": 17,
   "id": "e918e86e",
   "metadata": {},
   "outputs": [],
   "source": [
    "X_train, X_test, y_train, y_test = train_test_split(X,y,\n",
    "                                                   test_size=0.2,\n",
    "                                                   random_state=30)"
   ]
  },
  {
   "cell_type": "code",
   "execution_count": 18,
   "id": "c9c1e90a",
   "metadata": {},
   "outputs": [],
   "source": [
    "# model training\n",
    "\n",
    "# linear regression"
   ]
  },
  {
   "cell_type": "code",
   "execution_count": 19,
   "id": "97e4c01e",
   "metadata": {},
   "outputs": [],
   "source": [
    "lr = LinearRegression()\n",
    "pri= lr.fit(X_train, y_train)\n"
   ]
  },
  {
   "cell_type": "code",
   "execution_count": 20,
   "id": "5fc2b576",
   "metadata": {},
   "outputs": [],
   "source": [
    "# model evaluation\n",
    "\n",
    "# prediction on training data"
   ]
  },
  {
   "cell_type": "code",
   "execution_count": 21,
   "id": "7fe72873",
   "metadata": {},
   "outputs": [
    {
     "name": "stdout",
     "output_type": "stream",
     "text": [
      "R Squared value 0.6121872239023984\n"
     ]
    }
   ],
   "source": [
    "pred_on_train= lr.predict(X_train)\n",
    "print(\"R Squared value\",r2_score(y_train,pred_on_train))"
   ]
  },
  {
   "cell_type": "markdown",
   "id": "f23905ac",
   "metadata": {},
   "source": [
    "#### Visualize actual prize and predicted prices"
   ]
  },
  {
   "cell_type": "code",
   "execution_count": 22,
   "id": "4a1177ba",
   "metadata": {},
   "outputs": [
    {
     "data": {
      "image/png": "[encoded data removed]",
      "text/plain": [
       "<Figure size 432x288 with 1 Axes>"
      ]
     },
     "metadata": {
      "needs_background": "light"
     },
     "output_type": "display_data"
    }
   ],
   "source": [
    "plt.scatter(y_train,pred_on_train)\n",
    "plt.xlabel('Actual prize')\n",
    "plt.ylabel('Predicted prize')\n",
    "plt.title('Actual prize VS Predicted prize')\n",
    "plt.show()"
   ]
  },
  {
   "cell_type": "code",
   "execution_count": 23,
   "id": "a2c00c5a",
   "metadata": {},
   "outputs": [],
   "source": [
    "\n",
    "\n",
    "# prediction on test data"
   ]
  },
  {
   "cell_type": "code",
   "execution_count": 24,
   "id": "420e3dd9",
   "metadata": {},
   "outputs": [
    {
     "name": "stdout",
     "output_type": "stream",
     "text": [
      "R Squared value 0.5544065506751998\n"
     ]
    }
   ],
   "source": [
    "pred_on_test = lr.predict(X_test)\n",
    "print(\"R Squared value\",r2_score(y_test,pred_on_test))"
   ]
  },
  {
   "cell_type": "markdown",
   "id": "b102b8f2",
   "metadata": {},
   "source": [
    "#### Visualize actual prize and predicted prices"
   ]
  },
  {
   "cell_type": "code",
   "execution_count": 25,
   "id": "af41229f",
   "metadata": {},
   "outputs": [
    {
     "data": {
      "image/png": "[encoded data removed]",
      "text/plain": [
       "<Figure size 432x288 with 1 Axes>"
      ]
     },
     "metadata": {
      "needs_background": "light"
     },
     "output_type": "display_data"
    }
   ],
   "source": [
    "plt.scatter(y_test,pred_on_test)\n",
    "plt.xlabel('Actual prize')\n",
    "plt.ylabel('Predicted prize')\n",
    "plt.title('Actual prize VS Predicted prize')\n",
    "plt.show()"
   ]
  },
  {
   "cell_type": "code",
   "execution_count": 26,
   "id": "e7300249",
   "metadata": {},
   "outputs": [
    {
     "name": "stderr",
     "output_type": "stream",
     "text": [
      "C:\\Users\\adeeb\\anaconda3\\lib\\site-packages\\sklearn\\base.py:450: UserWarning: X does not have valid feature names, but LinearRegression was fitted with feature names\n",
      "  warnings.warn(\n"
     ]
    }
   ],
   "source": [
    "\n",
    "price_of_car_lin= pri.predict([[2022]])"
   ]
  },
  {
   "cell_type": "code",
   "execution_count": 27,
   "id": "5ee64451",
   "metadata": {},
   "outputs": [
    {
     "data": {
      "text/plain": [
       "array([716941.16481899])"
      ]
     },
     "execution_count": 27,
     "metadata": {},
     "output_type": "execute_result"
    }
   ],
   "source": [
    "price_of_car_lin"
   ]
  },
  {
   "cell_type": "markdown",
   "id": "09a6a5a3",
   "metadata": {},
   "source": [
    "#### possible price of a 2022 model second-hand grand i10 in linear regression method = 716941.16481899"
   ]
  },
  {
   "cell_type": "markdown",
   "id": "28eb5439",
   "metadata": {},
   "source": [
    "# LASSO REGRESSION"
   ]
  },
  {
   "cell_type": "code",
   "execution_count": 28,
   "id": "25a1f847",
   "metadata": {},
   "outputs": [],
   "source": [
    "\n",
    "# model training\n",
    "\n",
    "# lasso regression\n",
    "\n"
   ]
  },
  {
   "cell_type": "code",
   "execution_count": 29,
   "id": "cb710713",
   "metadata": {},
   "outputs": [],
   "source": [
    "las = Lasso()\n",
    "pri_las= las.fit(X_train, y_train)"
   ]
  },
  {
   "cell_type": "code",
   "execution_count": 30,
   "id": "e3274b2e",
   "metadata": {},
   "outputs": [],
   "source": [
    "# model evaluation\n",
    "\n",
    "# prediction on train data"
   ]
  },
  {
   "cell_type": "code",
   "execution_count": 31,
   "id": "710621b7",
   "metadata": {},
   "outputs": [
    {
     "name": "stdout",
     "output_type": "stream",
     "text": [
      "R Squared value 0.6121872238555778\n"
     ]
    }
   ],
   "source": [
    "y_pred_las = las.predict(X_train)\n",
    "print(\"R Squared value\",r2_score(y_train,y_pred_las))"
   ]
  },
  {
   "cell_type": "markdown",
   "id": "df5e9a9e",
   "metadata": {},
   "source": [
    "#### Visualize actual prize and predicted prices"
   ]
  },
  {
   "cell_type": "code",
   "execution_count": 32,
   "id": "69b15fea",
   "metadata": {},
   "outputs": [
    {
     "data": {
      "image/png": "[encoded data removed]",
      "text/plain": [
       "<Figure size 432x288 with 1 Axes>"
      ]
     },
     "metadata": {
      "needs_background": "light"
     },
     "output_type": "display_data"
    }
   ],
   "source": [
    "plt.scatter(y_train,y_pred_las)\n",
    "plt.xlabel('Actual prize')\n",
    "plt.ylabel('Predicted prize')\n",
    "plt.title('Actual prize VS Predicted prize')\n",
    "plt.show()"
   ]
  },
  {
   "cell_type": "code",
   "execution_count": 33,
   "id": "c8833db2",
   "metadata": {},
   "outputs": [],
   "source": [
    "\n",
    "\n",
    "# prediction on test data"
   ]
  },
  {
   "cell_type": "code",
   "execution_count": 34,
   "id": "f98f099a",
   "metadata": {},
   "outputs": [
    {
     "name": "stdout",
     "output_type": "stream",
     "text": [
      "R Squared value 0.5544078790832122\n"
     ]
    }
   ],
   "source": [
    "y_pred_las = las.predict(X_test)\n",
    "print(\"R Squared value\",r2_score(y_test,y_pred_las))"
   ]
  },
  {
   "cell_type": "markdown",
   "id": "94111e7a",
   "metadata": {},
   "source": [
    "#### Visualize actual prize and predicted prices"
   ]
  },
  {
   "cell_type": "code",
   "execution_count": 35,
   "id": "f22fec35",
   "metadata": {},
   "outputs": [
    {
     "data": {
      "image/png": "[encoded data removed]",
      "text/plain": [
       "<Figure size 432x288 with 1 Axes>"
      ]
     },
     "metadata": {
      "needs_background": "light"
     },
     "output_type": "display_data"
    }
   ],
   "source": [
    "plt.scatter(y_test,y_pred_las)\n",
    "plt.xlabel('Actual prize')\n",
    "plt.ylabel('Predicted prize')\n",
    "plt.title('Actual prize VS Predicted prize')\n",
    "plt.show()"
   ]
  },
  {
   "cell_type": "code",
   "execution_count": 36,
   "id": "d9bca033",
   "metadata": {},
   "outputs": [],
   "source": [
    "# DATA POINTS ARE MORE CLOSER. THIS DATASET SHOW BETTER PREDICTION IN LASSO REGRESSION METHOD"
   ]
  },
  {
   "cell_type": "code",
   "execution_count": 37,
   "id": "90b53043",
   "metadata": {},
   "outputs": [
    {
     "name": "stderr",
     "output_type": "stream",
     "text": [
      "C:\\Users\\adeeb\\anaconda3\\lib\\site-packages\\sklearn\\base.py:450: UserWarning: X does not have valid feature names, but Lasso was fitted with feature names\n",
      "  warnings.warn(\n"
     ]
    }
   ],
   "source": [
    "price_of_car_las= pri_las.predict([[2022]])"
   ]
  },
  {
   "cell_type": "code",
   "execution_count": 38,
   "id": "bf2b4463",
   "metadata": {},
   "outputs": [
    {
     "data": {
      "text/plain": [
       "array([716939.12165211])"
      ]
     },
     "execution_count": 38,
     "metadata": {},
     "output_type": "execute_result"
    }
   ],
   "source": [
    "price_of_car_las"
   ]
  },
  {
   "cell_type": "markdown",
   "id": "bfe14d6e",
   "metadata": {},
   "source": [
    "#### possible price of a 2022 model second-hand grand i10 in lasso regression method = 716939.12165211"
   ]
  },
  {
   "cell_type": "code",
   "execution_count": 40,
   "id": "5de61ba8",
   "metadata": {},
   "outputs": [],
   "source": [
    "## WE GOT MSE FOR BOTH LINEAR REGRESSION MODEL AND LASSO REGRESSION MODEL ALMOST SAME. \n",
    "# VISUALIZATION OF ACTUAL PRIZE VS PREDICTED PRIZE SHOWS SOME-\n",
    "#    -BETTER PERFORMANCE FOR LASSO REGRESSION MODEL. THEIR DATA POINTS ARE MORE CLOSER THAN THAT OF IN LINEAR REGRESSION MODEL\n",
    "\n",
    "# THIS PARTICULAR DATASET SHOW COMPARATIVELY BETTER PREDICTION IN LASSO REGRESSION METHOD"
   ]
  },
  {
   "cell_type": "code",
   "execution_count": null,
   "id": "f3d111ef",
   "metadata": {},
   "outputs": [],
   "source": []
  },
  {
   "cell_type": "code",
   "execution_count": null,
   "id": "4f49c20d",
   "metadata": {},
   "outputs": [],
   "source": []
  },
  {
   "cell_type": "code",
   "execution_count": null,
   "id": "e470198a",
   "metadata": {},
   "outputs": [],
   "source": []
  },
  {
   "cell_type": "code",
   "execution_count": null,
   "id": "ff7f6bbb",
   "metadata": {},
   "outputs": [],
   "source": []
  }
 ],
 "metadata": {
  "kernelspec": {
   "display_name": "Python 3 (ipykernel)",
   "language": "python",
   "name": "python3"
  },
  "language_info": {
   "codemirror_mode": {
    "name": "ipython",
    "version": 3
   },
   "file_extension": ".py",
   "mimetype": "text/x-python",
   "name": "python",
   "nbconvert_exporter": "python",
   "pygments_lexer": "ipython3",
   "version": "3.9.12"
  }
 },
 "nbformat": 4,
 "nbformat_minor": 5
}
